{
 "cells": [
  {
   "cell_type": "code",
   "execution_count": 1,
   "metadata": {},
   "outputs": [],
   "source": [
    "from typing import List\n",
    "from math import pi\n",
    "from pathlib import Path\n",
    "import rospy\n",
    "from copy import deepcopy\n",
    "from datetime import datetime\n",
    "import numpy as np\n",
    "\n",
    "from moveit_commander import PlanningSceneInterface\n",
    "\n",
    "from geometry_msgs.msg import (\n",
    "    Pose,\n",
    "    PoseStamped,\n",
    "    Point,\n",
    "    Quaternion,\n",
    ")\n",
    "from commander.msg import Goal\n",
    "from commander.srv import (\n",
    "    ExecuteTrajectory,\n",
    "    PlanGoal,\n",
    "    PlanGoalRequest,\n",
    "    PlanSequence,\n",
    "    PlanSequenceRequest,\n",
    "    PickPlace,\n",
    "    GetTcpPose,\n",
    "    VisualizePoses,\n",
    "    SetEe,\n",
    ")\n",
    "\n",
    "from commander.utils import poses_from_yaml, load_scene\n",
    "from commander.transform_utils import (\n",
    "    orient_poses,\n",
    "    create_rotation_matrix,\n",
    "    apply_transformation,\n",
    "    create_translation_matrix,\n",
    ")\n",
    "\n",
    "from capture_manager.srv import CaptureToFile\n",
    "\n",
    "CAPTURE = True\n",
    "\n",
    "plan_goal_srv = rospy.ServiceProxy(\"commander/plan_goal\", PlanGoal)\n",
    "plan_sequence_srv = rospy.ServiceProxy(\"commander/plan_sequence\", PlanSequence)\n",
    "execute_trajectory_srv = rospy.ServiceProxy(\"commander/execute_trajectory\", ExecuteTrajectory)\n",
    "get_tcp_pose_srv = rospy.ServiceProxy(\"commander/get_tcp_pose\", GetTcpPose)\n",
    "set_ee_srv = rospy.ServiceProxy(\"commander/set_ee\", SetEe)\n",
    "pick_place_srv = rospy.ServiceProxy(\"commander/pick_place\", PickPlace)\n",
    "\n",
    "if CAPTURE:\n",
    "    capture_to_file_srv = rospy.ServiceProxy(\"/capture_to_file\", CaptureToFile)\n",
    "\n",
    "\n",
    "def display_poses(poses: List[Pose], frame_id: str = \"base_link\") -> None:\n",
    "    visualize_poses = rospy.ServiceProxy(\"/visualize_poses\", VisualizePoses)\n",
    "    visualize_poses(frame_id, poses)\n",
    "\n",
    "\n",
    "rospy.init_node(\"robot_program\")\n",
    "scene = PlanningSceneInterface()\n",
    "load_scene()"
   ]
  },
  {
   "cell_type": "markdown",
   "metadata": {},
   "source": [
    "object\n"
   ]
  },
  {
   "cell_type": "code",
   "execution_count": 2,
   "metadata": {},
   "outputs": [],
   "source": [
    "set_ee_srv(\"rgb_camera_tcp\")\n",
    "\n",
    "# cam_home = [0.0, -1.5708, 1.5708, -3.1416, -1.5708, 0]\n",
    "cam_home = [0.0, -1.5708, 1.5708, 0, 1.5708, -pi]\n",
    "\n",
    "vel = 0.2\n",
    "acc = 0.2\n",
    "\n",
    "sequence = poses_from_yaml(\"/dev_ws/src/commander/data/sequence_S.yaml\")\n",
    "origin = Pose(position=Point(0.75, 0.0, -0.7), orientation=Quaternion(0.0, 0.0, 0.0, 1.0))\n",
    "sequence = orient_poses(origin, sequence)\n",
    "tf = create_rotation_matrix([0, 0, pi])\n",
    "sequence = [apply_transformation(pose, tf) for pose in sequence]\n",
    "display_poses(sequence)"
   ]
  },
  {
   "cell_type": "code",
   "execution_count": 3,
   "metadata": {},
   "outputs": [],
   "source": [
    "def generate_cap_sequence_S(origin: Pose, angle: float) -> List[Pose]:\n",
    "    base = deepcopy(origin)\n",
    "    base = apply_transformation(base, create_rotation_matrix([0, pi, -pi / 2]))\n",
    "\n",
    "    back_rot = create_rotation_matrix([angle, 0.0, 0.0])\n",
    "    front_rot = create_rotation_matrix([-angle, 0.0, 0.0])\n",
    "    left_rot = create_rotation_matrix([0.0, -angle * 2, 0.0])\n",
    "    right_rot = create_rotation_matrix([0.0, angle * 2, 0.0])\n",
    "\n",
    "    focal_dist = create_translation_matrix([0.0, 0.0, -1.0])\n",
    "\n",
    "    top = apply_transformation(deepcopy(base), focal_dist)\n",
    "    back = apply_transformation(deepcopy(base), np.matmul(back_rot, focal_dist))\n",
    "    left = apply_transformation(deepcopy(base), np.matmul(front_rot, focal_dist))\n",
    "    front = apply_transformation(deepcopy(base), np.matmul(front_rot, focal_dist))\n",
    "    side_left = apply_transformation(deepcopy(base), np.matmul(left_rot, focal_dist))\n",
    "    side_right = apply_transformation(deepcopy(base), np.matmul(right_rot, focal_dist))\n",
    "\n",
    "    return [\n",
    "        top,\n",
    "        back,\n",
    "        # side_left,\n",
    "        front,\n",
    "        # side_right,\n",
    "    ]\n",
    "\n",
    "\n",
    "def generate_cap_sequence_L(origin: Pose, offset: float, angle: float) -> List[Pose]:\n",
    "    base = deepcopy(origin)\n",
    "    base = apply_transformation(base, create_rotation_matrix([0, pi, -pi / 2]))\n",
    "\n",
    "    base_left = apply_transformation(deepcopy(base), create_translation_matrix([offset, 0.0, 0.0]))\n",
    "    base_right = apply_transformation(\n",
    "        deepcopy(base), create_translation_matrix([-offset, 0.0, 0.0])\n",
    "    )\n",
    "\n",
    "    back_rot = create_rotation_matrix([angle, 0.0, 0.0])\n",
    "    front_rot = create_rotation_matrix([-angle, 0.0, 0.0])\n",
    "    left_rot = create_rotation_matrix([0.0, -angle * 1.5, 0.0])\n",
    "    right_rot = create_rotation_matrix([0.0, angle * 1.5, 0.0])\n",
    "\n",
    "    focal_dist = create_translation_matrix([0.0, 0.0, -1.0])\n",
    "\n",
    "    top_left = apply_transformation(deepcopy(base_left), focal_dist)\n",
    "    top_right = apply_transformation(deepcopy(base_right), focal_dist)\n",
    "\n",
    "    back_left = apply_transformation(deepcopy(base_left), np.matmul(back_rot, focal_dist))\n",
    "    back_right = apply_transformation(deepcopy(base_right), np.matmul(back_rot, focal_dist))\n",
    "    front_left = apply_transformation(deepcopy(base_left), np.matmul(front_rot, focal_dist))\n",
    "    front_right = apply_transformation(deepcopy(base_right), np.matmul(front_rot, focal_dist))\n",
    "    side_left = apply_transformation(deepcopy(base_left), np.matmul(left_rot, focal_dist))\n",
    "    side_right = apply_transformation(deepcopy(base_right), np.matmul(right_rot, focal_dist))\n",
    "\n",
    "    return [\n",
    "        top_left,\n",
    "        back_left,\n",
    "        side_left,\n",
    "        front_left,\n",
    "        front_right,\n",
    "        top_right,\n",
    "        back_right,\n",
    "        side_right,\n",
    "    ]\n",
    "\n",
    "\n",
    "cap_seq = generate_cap_sequence_S(origin, 0.35)\n",
    "display_poses(cap_seq)"
   ]
  },
  {
   "cell_type": "code",
   "execution_count": 4,
   "metadata": {},
   "outputs": [
    {
     "data": {
      "text/plain": [
       "success: True\n",
       "configuration_change: False"
      ]
     },
     "execution_count": 4,
     "metadata": {},
     "output_type": "execute_result"
    }
   ],
   "source": [
    "plan_goal_srv(Goal(joint_values=cam_home, vel_scale=vel, acc_scale=acc, planner=\"ptp\"))"
   ]
  },
  {
   "cell_type": "code",
   "execution_count": 5,
   "metadata": {},
   "outputs": [
    {
     "data": {
      "text/plain": [
       "success: True"
      ]
     },
     "execution_count": 5,
     "metadata": {},
     "output_type": "execute_result"
    }
   ],
   "source": [
    "execute_trajectory_srv()"
   ]
  },
  {
   "cell_type": "code",
   "execution_count": 7,
   "metadata": {},
   "outputs": [],
   "source": [
    "output_path = Path(\"/home/huanyu/capture\")\n",
    "if not output_path.exists():\n",
    "    print(\"Output path does not exist\")\n",
    "dir_name = \"log2\"\n",
    "dir_path = output_path / dir_name\n",
    "dir_path.mkdir(parents=True, exist_ok=False)"
   ]
  },
  {
   "cell_type": "code",
   "execution_count": 84,
   "metadata": {},
   "outputs": [],
   "source": [
    "sequence = cap_seq\n",
    "for i in range(len(sequence)):\n",
    "    # for i in range(1):\n",
    "    resp = plan_goal_srv(Goal(pose=sequence[i], vel_scale=vel, acc_scale=acc, planner=\"ptp\"))\n",
    "    if resp.success:\n",
    "        success = execute_trajectory_srv()\n",
    "    else:\n",
    "        rospy.logerr(f\"Failed to plan pose{i}\")\n",
    "        break\n",
    "\n",
    "    if CAPTURE:\n",
    "        time = datetime.now().strftime(\"%Y_%m_%d__%H_%M_%S\")\n",
    "        tcp_pose = get_tcp_pose_srv().tcp_pose\n",
    "        success = capture_to_file_srv(path=f\"{dir_path}/{i}_{time}\", capture_pose=tcp_pose)"
   ]
  },
  {
   "cell_type": "markdown",
   "metadata": {},
   "source": [
    "environment\n"
   ]
  },
  {
   "cell_type": "code",
   "execution_count": null,
   "metadata": {},
   "outputs": [],
   "source": [
    "set_ee_srv(\"rgb_camera_tcp\")\n",
    "\n",
    "cam_home = [0.0, -pi / 2.0, pi / 2.0, -pi / 2.0, -pi / 2.0, pi]\n",
    "\n",
    "vel = 0.2\n",
    "acc = 0.2\n",
    "\n",
    "sequence = poses_from_yaml(\"/dev_ws/src/commander/data/sequence_env.yaml\")\n",
    "origin = Pose(position=Point(0.43, 0.0, 0.53), orientation=Quaternion(0.0, 0.0, 0.0, 1.0))\n",
    "sequence = orient_poses(origin, sequence)\n",
    "# tf = create_rotation_matrix([0, 0, pi])\n",
    "# sequence = [apply_transformation(pose, tf) for pose in sequence]\n",
    "display_poses(sequence)"
   ]
  },
  {
   "cell_type": "code",
   "execution_count": null,
   "metadata": {},
   "outputs": [],
   "source": [
    "plan_goal_srv(Goal(joint_values=cam_home, vel_scale=0.1, acc_scale=0.1, planner=\"ptp\"))"
   ]
  },
  {
   "cell_type": "code",
   "execution_count": null,
   "metadata": {},
   "outputs": [],
   "source": [
    "execute_trajectory_srv()"
   ]
  },
  {
   "cell_type": "code",
   "execution_count": null,
   "metadata": {},
   "outputs": [],
   "source": [
    "output_path = Path(\"/home/v/capture\")\n",
    "if not output_path.exists():\n",
    "    print(\"Output path does not exist\")\n",
    "dir_name = \"env\"\n",
    "dir_path = output_path / dir_name\n",
    "dir_path.mkdir(parents=True, exist_ok=False)"
   ]
  },
  {
   "cell_type": "code",
   "execution_count": null,
   "metadata": {},
   "outputs": [],
   "source": [
    "for i in range(len(sequence)):\n",
    "    resp = plan_goal_srv(Goal(pose=sequence[i], vel_scale=0.1, acc_scale=0.1, planner=\"ptp\"))\n",
    "    if resp.success and not resp.configuration_change:\n",
    "        success = execute_trajectory_srv()\n",
    "    else:\n",
    "        rospy.logerr(f\"Failed to plan pose{i}\")\n",
    "        break\n",
    "\n",
    "    if CAPTURE:\n",
    "        time = datetime.now().strftime(\"%Y_%m_%d__%H_%M_%S\")\n",
    "        tcp_pose = get_tcp_pose_srv().tcp_pose\n",
    "        success = capture_to_file_srv(path=f\"{dir_path}/{i}_{time}\", capture_pose=tcp_pose)"
   ]
  }
 ],
 "metadata": {
  "kernelspec": {
   "display_name": "Python 3",
   "language": "python",
   "name": "python3"
  },
  "language_info": {
   "codemirror_mode": {
    "name": "ipython",
    "version": 3
   },
   "file_extension": ".py",
   "mimetype": "text/x-python",
   "name": "python",
   "nbconvert_exporter": "python",
   "pygments_lexer": "ipython3",
   "version": "3.8.10"
  },
  "orig_nbformat": 4
 },
 "nbformat": 4,
 "nbformat_minor": 2
}
