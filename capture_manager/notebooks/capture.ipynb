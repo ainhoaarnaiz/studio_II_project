{
 "cells": [
  {
   "cell_type": "code",
   "execution_count": 1,
   "metadata": {},
   "outputs": [],
   "source": [
    "from capture_manager.srv import CaptureToFile\n",
    "from commander.srv import GetTcpPose, SetEe\n",
    "import rospy\n",
    "\n",
    "ROBOT_CAP = False\n",
    "\n",
    "rospy.init_node(\"ka_test\")\n",
    "if ROBOT_CAP:\n",
    "    get_tcp_pose_srv = rospy.ServiceProxy(\"/commander/get_tcp_pose\", GetTcpPose)\n",
    "    set_ee_srv = rospy.ServiceProxy(\"/commander/set_ee\", SetEe)\n",
    "\n",
    "capture_to_file_srv = rospy.ServiceProxy(\"/capture_to_file\", CaptureToFile)"
   ]
  },
  {
   "cell_type": "code",
   "execution_count": 3,
   "metadata": {},
   "outputs": [],
   "source": [
    "if ROBOT_CAP:\n",
    "    success = set_ee_srv(\"rgb_camera_tcp\")\n",
    "    tcp_pose = get_tcp_pose_srv().tcp_pose\n",
    "success = capture_to_file_srv(path=\"/home/huanyu/capture/ka\")"
   ]
  }
 ],
 "metadata": {
  "kernelspec": {
   "display_name": "Python 3",
   "language": "python",
   "name": "python3"
  },
  "language_info": {
   "codemirror_mode": {
    "name": "ipython",
    "version": 3
   },
   "file_extension": ".py",
   "mimetype": "text/x-python",
   "name": "python",
   "nbconvert_exporter": "python",
   "pygments_lexer": "ipython3",
   "version": "3.8.10"
  },
  "orig_nbformat": 4
 },
 "nbformat": 4,
 "nbformat_minor": 2
}
