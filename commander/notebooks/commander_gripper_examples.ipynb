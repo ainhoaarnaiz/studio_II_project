{
 "cells": [
  {
   "cell_type": "markdown",
   "metadata": {},
   "source": [
    "# commander examples\n"
   ]
  },
  {
   "cell_type": "code",
   "execution_count": null,
   "metadata": {},
   "outputs": [],
   "source": [
    "from typing import List\n",
    "from math import pi\n",
    "import rospy\n",
    "from copy import deepcopy\n",
    "\n",
    "from moveit_commander import PlanningSceneInterface\n",
    "\n",
    "from geometry_msgs.msg import (\n",
    "    Pose,\n",
    "    PoseStamped,\n",
    "    Point,\n",
    "    Quaternion,\n",
    ")\n",
    "from commander.msg import Goal\n",
    "from commander.srv import (\n",
    "    ExecuteTrajectory,\n",
    "    PlanGoal,\n",
    "    PlanGoalRequest,\n",
    "    PlanSequence,\n",
    "    PlanSequenceRequest,\n",
    "    PickPlace,\n",
    "    GetTcpPose,\n",
    "    VisualizePoses,\n",
    "    SetEe,\n",
    ")\n",
    "\n",
    "from commander.utils import poses_from_yaml, load_scene\n",
    "from commander.transform_utils import orient_poses, create_rotation_matrix, apply_transformation\n",
    "from commander.ur_robot import UrRobot\n",
    "\n",
    "plan_goal_srv = rospy.ServiceProxy('commander/plan_goal', PlanGoal)\n",
    "plan_sequence_srv = rospy.ServiceProxy('commander/plan_sequence', PlanSequence)\n",
    "execute_trajectory_srv = rospy.ServiceProxy('commander/execute_trajectory', ExecuteTrajectory)\n",
    "get_tcp_pose_srv = rospy.ServiceProxy('commander/get_tcp_pose', GetTcpPose)\n",
    "set_ee_srv = rospy.ServiceProxy('commander/set_ee', SetEe)\n",
    "pick_place_srv = rospy.ServiceProxy('commander/pick_place', PickPlace)\n",
    "\n",
    "\n",
    "def display_poses(poses: List[Pose], frame_id: str = 'base_link') -> None:\n",
    "    rospy.wait_for_service('/visualize_poses', timeout=10)\n",
    "    visualize_poses = rospy.ServiceProxy('/visualize_poses', VisualizePoses)\n",
    "    visualize_poses(frame_id, poses)\n",
    "\n",
    "\n",
    "rospy.init_node('robot_program')\n",
    "scene = PlanningSceneInterface()\n",
    "load_scene()\n"
   ]
  },
  {
   "cell_type": "markdown",
   "metadata": {},
   "source": [
    "plan to goal"
   ]
  },
  {
   "cell_type": "code",
   "execution_count": null,
   "metadata": {},
   "outputs": [],
   "source": [
    "cam_home = [0.0, -1.5708, 1.5708, -3.1416, -1.5708, 0]\n"
   ]
  },
  {
   "cell_type": "code",
   "execution_count": null,
   "metadata": {},
   "outputs": [],
   "source": [
    "# the following args for planner are available:\n",
    "# - 'ompl' will use the ompl planning pipeline with RTTConnect planner\n",
    "# - 'ptp' will use the pilz planning pipeline with the PTP planner\n",
    "# - 'lin' will use the pilz planning pipeline with the LIN planner\n",
    "\n",
    "plan_goal_srv(Goal(joint_values=cam_home, vel_scale=0.2, acc_scale=0.2, planner='ptp'))"
   ]
  },
  {
   "cell_type": "code",
   "execution_count": null,
   "metadata": {},
   "outputs": [],
   "source": [
    "success = execute_trajectory_srv()\n"
   ]
  },
  {
   "cell_type": "code",
   "execution_count": null,
   "metadata": {},
   "outputs": [],
   "source": [
    "success = set_ee_srv('gripper_tcp')\n"
   ]
  },
  {
   "cell_type": "code",
   "execution_count": null,
   "metadata": {},
   "outputs": [],
   "source": [
    "target0 = Pose(\n",
    "    position=Point(0.5, -0.4, 0.4),\n",
    "    orientation=Quaternion(0.0, -0.7071067811865475, -0.7071067811865475, 0.0),\n",
    ")\n",
    "display_poses([target0])\n",
    "success = plan_goal_srv(Goal(pose=target0,\n",
    "        vel_scale=0.2,\n",
    "        acc_scale=0.2,\n",
    "        planner='ptp'))"
   ]
  },
  {
   "cell_type": "code",
   "execution_count": null,
   "metadata": {},
   "outputs": [],
   "source": [
    "success = execute_trajectory_srv()"
   ]
  },
  {
   "cell_type": "code",
   "execution_count": null,
   "metadata": {},
   "outputs": [],
   "source": [
    "#Close gripper\n",
    "UrRobot().set_do(do = 6, state = 0)\n",
    "UrRobot().set_do(do = 4, state = 1)"
   ]
  },
  {
   "cell_type": "code",
   "execution_count": null,
   "metadata": {},
   "outputs": [],
   "source": [
    "#Open gripper\n",
    "UrRobot().set_do(do = 4, state = 0)\n",
    "UrRobot().set_do(do = 6, state = 1)"
   ]
  },
  {
   "cell_type": "code",
   "execution_count": null,
   "metadata": {},
   "outputs": [],
   "source": [
    "target1 = Pose(\n",
    "    position=Point(0.5, 0.4, 0.4),\n",
    "    orientation=Quaternion(0.0, -0.7071067811865475, -0.7071067811865475, 0.0),\n",
    ")\n",
    "display_poses([target0, target1])\n",
    "success = plan_goal_srv(Goal(pose=target1,\n",
    "        vel_scale=0.2,\n",
    "        acc_scale=0.2,\n",
    "        planner='ptp'))\n"
   ]
  },
  {
   "cell_type": "code",
   "execution_count": null,
   "metadata": {},
   "outputs": [],
   "source": [
    "success = execute_trajectory_srv()\n",
    "# UrRobot().set_do(4, False)\n",
    "# UrRobot().set_do(5, True)"
   ]
  }
 ],
 "metadata": {
  "kernelspec": {
   "display_name": "Python 3",
   "language": "python",
   "name": "python3"
  },
  "language_info": {
   "codemirror_mode": {
    "name": "ipython",
    "version": 3
   },
   "file_extension": ".py",
   "mimetype": "text/x-python",
   "name": "python",
   "nbconvert_exporter": "python",
   "pygments_lexer": "ipython3",
   "version": "3.8.10"
  },
  "orig_nbformat": 4
 },
 "nbformat": 4,
 "nbformat_minor": 2
}
