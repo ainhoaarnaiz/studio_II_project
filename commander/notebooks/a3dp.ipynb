{
 "cells": [
  {
   "cell_type": "code",
   "execution_count": 2,
   "metadata": {},
   "outputs": [],
   "source": [
    "from typing import List\n",
    "from math import pi\n",
    "import rospy\n",
    "from copy import deepcopy\n",
    "\n",
    "from moveit_commander import PlanningSceneInterface\n",
    "\n",
    "from geometry_msgs.msg import (\n",
    "    Pose,\n",
    "    PoseStamped,\n",
    "    Point,\n",
    "    Quaternion,\n",
    ")\n",
    "from commander.msg import Goal\n",
    "from commander.srv import (\n",
    "    ExecuteTrajectory,\n",
    "    PlanGoal,\n",
    "    PlanGoalRequest,\n",
    "    PlanSequence,\n",
    "    PlanSequenceRequest,\n",
    "    PickPlace,\n",
    "    GetTcpPose,\n",
    "    VisualizePoses,\n",
    "    SetEe,\n",
    ")\n",
    "\n",
    "from commander.utils import poses_from_yaml, load_scene\n",
    "from commander.transform_utils import orient_poses, create_rotation_matrix, apply_transformation\n",
    "\n",
    "scene = PlanningSceneInterface()\n",
    "\n",
    "plan_goal_srv = rospy.ServiceProxy('commander/plan_goal', PlanGoal)\n",
    "plan_sequence_srv = rospy.ServiceProxy('commander/plan_sequence', PlanSequence)\n",
    "execute_trajectory_srv = rospy.ServiceProxy('commander/execute_trajectory', ExecuteTrajectory)\n",
    "get_tcp_pose_srv = rospy.ServiceProxy('commander/get_tcp_pose', GetTcpPose)\n",
    "set_ee_srv = rospy.ServiceProxy('commander/set_ee', SetEe)\n",
    "pick_place_srv = rospy.ServiceProxy('commander/pick_place', PickPlace)\n",
    "\n",
    "\n",
    "def display_poses(poses: List[Pose], frame_id: str = 'base_link') -> None:\n",
    "    rospy.wait_for_service('/visualize_poses', timeout=10)\n",
    "    visualize_poses = rospy.ServiceProxy('/visualize_poses', VisualizePoses)\n",
    "    visualize_poses(frame_id, poses)\n",
    "\n",
    "\n",
    "rospy.init_node('test')"
   ]
  },
  {
   "cell_type": "code",
   "execution_count": 3,
   "metadata": {},
   "outputs": [],
   "source": [
    "load_scene()\n",
    "success = set_ee_srv('rgb_camera_tcp')\n",
    "sequence = poses_from_yaml('/dev_ws/src/commander/data/a3dp.yaml')\n",
    "origin = Pose(position=Point(0.775, 0, -0.35), orientation=Quaternion(0, 0, 0, 1))\n",
    "sequence = orient_poses(origin, sequence)\n",
    "tf = create_rotation_matrix([0, 0, pi])\n",
    "sequence = [apply_transformation(pose, tf) for pose in sequence]\n",
    "home = [0, -pi / 2, pi / 2, 0, pi / 2, pi]\n",
    "display_poses(sequence)\n"
   ]
  },
  {
   "cell_type": "code",
   "execution_count": 4,
   "metadata": {},
   "outputs": [
    {
     "data": {
      "text/plain": [
       "success: True\n",
       "configuration_change: True"
      ]
     },
     "execution_count": 4,
     "metadata": {},
     "output_type": "execute_result"
    }
   ],
   "source": [
    "plan_goal_srv(Goal(joint_values=home, vel_scale=0.1, acc_scale=0.1, planner='ptp'))"
   ]
  },
  {
   "cell_type": "code",
   "execution_count": 5,
   "metadata": {},
   "outputs": [
    {
     "data": {
      "text/plain": [
       "success: True"
      ]
     },
     "execution_count": 5,
     "metadata": {},
     "output_type": "execute_result"
    }
   ],
   "source": [
    "execute_trajectory_srv()"
   ]
  },
  {
   "cell_type": "code",
   "execution_count": 12,
   "metadata": {},
   "outputs": [],
   "source": [
    "sequence = poses_from_yaml('/dev_ws/src/commander/data/a3dp.yaml')\n",
    "origin = Pose(position=Point(0.8, 0, -0.30), orientation=Quaternion(0, 0, 0, 1))\n",
    "sequence = orient_poses(origin, sequence)\n",
    "tf = create_rotation_matrix([0, 0, pi])\n",
    "sequence = [apply_transformation(pose, tf) for pose in sequence]\n",
    "home = [0, -pi / 2, pi / 2, 0, pi / 2, pi]\n",
    "display_poses(sequence)\n",
    "start = sequence[0]\n",
    "sequence = sequence[1:]\n",
    "resp = plan_goal_srv(Goal(pose=start, vel_scale=0.1, acc_scale=0.1, planner='ptp'))\n"
   ]
  },
  {
   "cell_type": "code",
   "execution_count": 13,
   "metadata": {},
   "outputs": [],
   "source": [
    "success = execute_trajectory_srv()\n"
   ]
  },
  {
   "cell_type": "code",
   "execution_count": 14,
   "metadata": {},
   "outputs": [],
   "source": [
    "goals = [Goal(pose=pose, vel_scale=0.1, acc_scale=0.01, planner='lin') for pose in sequence]\n",
    "blends = [0.008] * (len(goals) - 1)\n",
    "blends.append(0.0)\n",
    "\n",
    "plan = PlanSequenceRequest(goals=goals, blends=blends)\n",
    "resp = plan_sequence_srv(plan)"
   ]
  },
  {
   "cell_type": "code",
   "execution_count": 15,
   "metadata": {},
   "outputs": [],
   "source": [
    "success = execute_trajectory_srv()\n"
   ]
  }
 ],
 "metadata": {
  "kernelspec": {
   "display_name": "Python 3",
   "language": "python",
   "name": "python3"
  },
  "language_info": {
   "codemirror_mode": {
    "name": "ipython",
    "version": 3
   },
   "file_extension": ".py",
   "mimetype": "text/x-python",
   "name": "python",
   "nbconvert_exporter": "python",
   "pygments_lexer": "ipython3",
   "version": "3.8.10"
  },
  "orig_nbformat": 4
 },
 "nbformat": 4,
 "nbformat_minor": 2
}
