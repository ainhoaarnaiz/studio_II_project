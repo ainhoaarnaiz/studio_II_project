{
 "cells": [
  {
   "cell_type": "code",
   "execution_count": 3,
   "metadata": {},
   "outputs": [],
   "source": [
    "from typing import List, Tuple\n",
    "from math import pi\n",
    "from datetime import datetime\n",
    "import rospy\n",
    "from copy import deepcopy\n",
    "\n",
    "from moveit_commander import PlanningSceneInterface\n",
    "\n",
    "from geometry_msgs.msg import (\n",
    "    Pose,\n",
    "    PoseStamped,\n",
    "    Point,\n",
    "    Quaternion,\n",
    "    Vector3,\n",
    ")\n",
    "from commander.msg import Goal\n",
    "from commander.srv import (\n",
    "    ExecuteTrajectory,\n",
    "    PlanGoal,\n",
    "    PlanGoalRequest,\n",
    "    PlanSequence,\n",
    "    PlanSequenceRequest,\n",
    "    PickPlace,\n",
    "    GetTcpPose,\n",
    "    VisualizePoses,\n",
    "    SetEe,\n",
    ")\n",
    "from industrial_reconstruction_msgs.srv import (\n",
    "    StartReconstruction,\n",
    "    StartReconstructionRequest,\n",
    "    StopReconstruction,\n",
    "    StopReconstructionRequest,\n",
    ")\n",
    "\n",
    "from commander.utils import poses_from_yaml, load_scene\n",
    "\n",
    "ply_file_path = \"/dev_ws/src/software_II_project/custom_pkg/captures/raw_01.ply\"\n",
    "\n",
    "CAPTURE = True\n",
    "\n",
    "rospy.init_node(\"reconstruction\")\n",
    "\n",
    "load_scene()\n",
    "\n",
    "plan_goal_srv = rospy.ServiceProxy(\"commander/plan_goal\", PlanGoal)\n",
    "plan_sequence_srv = rospy.ServiceProxy(\"commander/plan_sequence\", PlanSequence)\n",
    "execute_trajectory_srv = rospy.ServiceProxy(\"commander/execute_trajectory\", ExecuteTrajectory)\n",
    "get_tcp_pose_srv = rospy.ServiceProxy(\"commander/get_tcp_pose\", GetTcpPose)\n",
    "set_ee_srv = rospy.ServiceProxy(\"commander/set_ee\", SetEe)\n",
    "pick_place_srv = rospy.ServiceProxy(\"commander/pick_place\", PickPlace)\n",
    "\n",
    "if CAPTURE:\n",
    "    start_recon = rospy.ServiceProxy(\"/start_reconstruction\", StartReconstruction)\n",
    "    stop_recon = rospy.ServiceProxy(\"/stop_reconstruction\", StopReconstruction)\n",
    "\n",
    "\n",
    "def display_poses(poses: List[Pose], frame_id: str = \"base_link\") -> None:\n",
    "    rospy.wait_for_service(\"/visualize_poses\", timeout=10)\n",
    "    visualize_poses = rospy.ServiceProxy(\"/visualize_poses\", VisualizePoses)\n",
    "    visualize_poses(frame_id, poses)\n",
    "\n",
    "\n",
    "def gen_recon_msg(path: str) -> Tuple[StartReconstructionRequest, StopReconstructionRequest]:\n",
    "    start_srv_req = StartReconstructionRequest()\n",
    "    start_srv_req.tracking_frame = \"rgb_camera_link\"\n",
    "    start_srv_req.relative_frame = \"base_link\"\n",
    "    start_srv_req.translation_distance = 0.0\n",
    "    start_srv_req.rotational_distance = 0.0\n",
    "    start_srv_req.live = True\n",
    "    start_srv_req.tsdf_params.voxel_length = 0.003 ##########last value 0.02\n",
    "    start_srv_req.tsdf_params.sdf_trunc = 0.01 ###########last value 0.04\n",
    "    start_srv_req.tsdf_params.min_box_values = Vector3(x=0.0, y=0.0, z=0.0)\n",
    "    start_srv_req.tsdf_params.max_box_values = Vector3(x=0.0, y=0.0, z=0.0)\n",
    "    start_srv_req.rgbd_params.depth_scale = 1000\n",
    "    start_srv_req.rgbd_params.depth_trunc = 10000\n",
    "    start_srv_req.rgbd_params.convert_rgb_to_intensity = False\n",
    "\n",
    "    stop_srv_req = StopReconstructionRequest()\n",
    "    #path = path + datetime.now().strftime(\"%m_%d_%H_%M\") + \".ply\"\n",
    "    stop_srv_req.mesh_filepath = path\n",
    "\n",
    "    return start_srv_req, stop_srv_req"
   ]
  },
  {
   "cell_type": "code",
   "execution_count": 12,
   "metadata": {},
   "outputs": [
    {
     "data": {
      "text/plain": [
       "success: True\n",
       "configuration_change: False"
      ]
     },
     "execution_count": 12,
     "metadata": {},
     "output_type": "execute_result"
    }
   ],
   "source": [
    "#cam_home = [0.0, -1.5708, 1.5708, -3.1416, -1.5708, 0]\n",
    "cam_home = [-3.062046195720626, -2.042543974749485, -0.9841965193219935, -1.8468536888817202, -1.4911785421602695, -3.2211255818224362]\n",
    "plan_goal_srv(Goal(joint_values=cam_home, vel_scale=0.2, acc_scale=0.2, planner='ptp'))"
   ]
  },
  {
   "cell_type": "code",
   "execution_count": 13,
   "metadata": {},
   "outputs": [],
   "source": [
    "success = execute_trajectory_srv()"
   ]
  },
  {
   "cell_type": "code",
   "execution_count": 14,
   "metadata": {},
   "outputs": [],
   "source": [
    "success = set_ee_srv('rgb_camera_tcp')"
   ]
  },
  {
   "cell_type": "code",
   "execution_count": 15,
   "metadata": {},
   "outputs": [
    {
     "name": "stdout",
     "output_type": "stream",
     "text": [
      "Start recon\n"
     ]
    }
   ],
   "source": [
    "import os\n",
    "import yaml\n",
    "\n",
    "def execute_joint_states(joint_position):\n",
    "    # Plan the goal using the stored joint position\n",
    "    success = plan_goal_srv(Goal(joint_values=joint_position, vel_scale=0.02, acc_scale=0.02, planner='ptp')).success\n",
    "\n",
    "    # Check if planning is successful\n",
    "    if success:\n",
    "        # Execute the trajectory\n",
    "        success = execute_trajectory_srv()\n",
    "\n",
    "        # Check if execution is successful\n",
    "        if not success:\n",
    "            rospy.loginfo(\"Failed to execute trajectory\")\n",
    "            exit()\n",
    "    else:\n",
    "        rospy.loginfo(\"Failed to plan\")\n",
    "        exit()\n",
    "\n",
    "#current_directory = os.getcwd()\n",
    "\n",
    "# Read joint positions from the YAML file\n",
    "#yaml_filename = os.path.join(current_directory, 'joint_positions.yaml')\n",
    "yaml_filename = \"/dev_ws/src/software_II_project/custom_pkg/config/joint_positions.yaml\"\n",
    "\n",
    "try:\n",
    "    with open(yaml_filename, 'r') as yaml_file:\n",
    "        joint_positions_data = yaml.safe_load(yaml_file)\n",
    "        joint_positions = joint_positions_data.get('joint_positions', [])\n",
    "except FileNotFoundError:\n",
    "    rospy.loginfo(f\"YAML file '{yaml_filename}' not found. Please run the code that saves joint positions first.\")\n",
    "    exit()\n",
    "\n",
    "if CAPTURE:\n",
    "    start_recon_req, stop_recon_req = gen_recon_msg(ply_file_path)\n",
    "\n",
    "start = True\n",
    "\n",
    "for joint_position in joint_positions:\n",
    "    \n",
    "    execute_joint_states(joint_position)\n",
    "\n",
    "    if start:\n",
    "        print(\"Start recon\")\n",
    "        if CAPTURE:\n",
    "            start_recon(start_recon_req)\n",
    "            start = False\n",
    "\n",
    "\n",
    "if CAPTURE:\n",
    "    stop_recon(stop_recon_req)"
   ]
  }
 ],
 "metadata": {
  "kernelspec": {
   "display_name": "Python 3",
   "language": "python",
   "name": "python3"
  },
  "language_info": {
   "codemirror_mode": {
    "name": "ipython",
    "version": 3
   },
   "file_extension": ".py",
   "mimetype": "text/x-python",
   "name": "python",
   "nbconvert_exporter": "python",
   "pygments_lexer": "ipython3",
   "version": "3.8.10"
  },
  "orig_nbformat": 4
 },
 "nbformat": 4,
 "nbformat_minor": 2
}
